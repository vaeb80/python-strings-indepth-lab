{
 "cells": [
  {
   "cell_type": "markdown",
   "metadata": {},
   "source": [
    "# Python Strings - Reloaded"
   ]
  },
  {
   "cell_type": "markdown",
   "metadata": {},
   "source": [
    "Strings (otherwise known as text) is a very important datatype in programming. Because strings are such a big part of programming and Python, there are a lot of ways to use them and many built-in methods that Python provides for us to use with them."
   ]
  },
  {
   "cell_type": "markdown",
   "metadata": {},
   "source": [
    "## Formatting Strings"
   ]
  },
  {
   "cell_type": "markdown",
   "metadata": {},
   "source": [
    "First thing we should talk about is the ways we can format strings. After all, we are programmers and we will usually need to make our strings programmatic. There are two main forms of combining and formatting strings called concatenation and interpolation. \n",
    "\n",
    "**Concatenation** is the operation of joining strings end-to-end. When we concatenate two strings, we are basically adding them together. So, if I have one string, `\"Hello, my name is\"`, and a second string, `\"Terrance!\"`, I can concatenate them together and make one longer string.\n",
    "\n",
    "**Interpolation** is the insertion of string variables into parts of an existing string. When we interpolate, we mark where we would like to insert values into a string (like placeholders), and then pass the values to the string, resulting in a string where the placeholders are replaced with their corresponding string values. In Python it would look something like this: `\"Hi, my name is {}\".format(\"Terrance!\")` which would yield \"Hello, my name is Terrance!\""
   ]
  },
  {
   "cell_type": "code",
   "execution_count": 1,
   "metadata": {},
   "outputs": [
    {
     "name": "stdout",
     "output_type": "stream",
     "text": [
      "Hello, my name is Terrance!\n",
      "Hello, my name is Terrance!\n",
      "Hello, my name is Terrance!\n",
      "Hello, my name is Terrance!\n"
     ]
    }
   ],
   "source": [
    "name = \"Terrance!\"\n",
    "print(\"Hello, my name is %s\" % (name)) # interpolation\n",
    "print(\"Hello, my name is \" + name) # concatenation\n",
    "print(\"Hello, my name is {name}\".format(name=name)) # interpolation\n",
    "print(f\"Hello, my name is {name}\") # interpolation with f-strings - newest method as of Python 3.6"
   ]
  },
  {
   "cell_type": "code",
   "execution_count": 185,
   "metadata": {},
   "outputs": [],
   "source": [
    "def say_hello(name):\n",
    "    # takes in a name and returns the string \"Hi my name is \" plus the name\n",
    "    # use whichever form of interpolation is most appropriate\n",
    "    s = f\"My name is {name}\"\n",
    "    return s"
   ]
  },
  {
   "cell_type": "code",
   "execution_count": 187,
   "metadata": {},
   "outputs": [
    {
     "data": {
      "text/plain": [
       "str"
      ]
     },
     "execution_count": 187,
     "metadata": {},
     "output_type": "execute_result"
    }
   ],
   "source": [
    "type(say_hello('terrence'))"
   ]
  },
  {
   "cell_type": "markdown",
   "metadata": {},
   "source": [
    "As we can see there are 4 different was to format strings in python! That can be pretty confusing. So, in general we should choose one method and stick to it. \n",
    "\n",
    "If we're simply combining a few strings end to end, concatenating them is the way to go (the one with the `+` signs).\n",
    "\n",
    "However, if we are interpolating we have three options. As with everything in Python and programming, it is important to have a reason behind every decision. A reason to not use the `%s` method would be that it can quickly become confusing if we have more than one element to interpolate since our markers for interpolation are just a non-descript symbol (`%s`). So, if we eliminate the first method of interpolation, we are left with the last two. There are benefits to both. \n",
    "\n",
    "`f-strings` or `string literals` allow you to directly interpolate strings and functions. You can more easily separate the things you want to interpolate so that it is not all bunched together, and maybe more significantly f-strings are much faster than other forms of string interpolation. However, the f-string is new to python as of version 3.6. So, they may not be supported on all applications. \n",
    "\n",
    "the `.format` method is also a good way of interpolating with strings. We simply choose where you would like to have a value interpolated and mark it with the double curly braces `{}`. Optionally, we can define a variable name inside the curly braces, `{name}`. Then, we give the `.format` method the arguments necessary. If we do not define a variable name (i.e. \"hello my name is {}\".format(\"Terrance\")), then we just give the value we want to be interpolated. If we do decide to define a variable, (i.e. \"hello my name is {name}\".format(name=\"Terrance\")), then we will need to tell our `.format` method what value to assign to each variable."
   ]
  },
  {
   "cell_type": "code",
   "execution_count": 2,
   "metadata": {},
   "outputs": [
    {
     "data": {
      "text/plain": [
       "'Hi, my name is Terrance! I love coding, especially in Python. I live in Brooklyn, New York'"
      ]
     },
     "execution_count": 2,
     "metadata": {},
     "output_type": "execute_result"
    }
   ],
   "source": [
    "# f-string interpolation\n",
    "name = \"Terrance\"\n",
    "language = \"Python\"\n",
    "home_state = \"New York\"\n",
    "def borough_name():\n",
    "    return \"Brooklyn\"\n",
    "\n",
    "f\"Hi, my name is {name}! I love coding, especially in {language}. I live in {borough_name()}, {home_state}\"\n",
    "# here we can see that we don't need to worry about passing arguments or defining variables \n",
    "# inside our string\n",
    "# we can also call functions and perform any normal python operations inside the\n",
    "# curly braces"
   ]
  },
  {
   "cell_type": "code",
   "execution_count": 7,
   "metadata": {},
   "outputs": [
    {
     "data": {
      "text/plain": [
       "'Hi, my name is Terrance! I love coding, especially in Python. I live in New York, New York'"
      ]
     },
     "execution_count": 7,
     "metadata": {},
     "output_type": "execute_result"
    }
   ],
   "source": [
    "# .format() interpolation\n",
    "name = \"Terrance\"\n",
    "language = \"Python\"\n",
    "home_state = \"New York\"\n",
    "\"Hi, my name is {name}! I love coding, especially in {lang}. I live in {location}, {location}\".format(lang=language, location=home_state, name=name)\n",
    "# here we can see that we need to name our arguments in the .format function \n",
    "# what we call our variables\n",
    "# in the string itself. Order does not matter here, and we can use the same variable \n",
    "# multiple times."
   ]
  },
  {
   "cell_type": "code",
   "execution_count": 8,
   "metadata": {},
   "outputs": [
    {
     "data": {
      "text/plain": [
       "'Hi, my name is Terrance I love coding, especially in Python. I live in New York City, New York'"
      ]
     },
     "execution_count": 8,
     "metadata": {},
     "output_type": "execute_result"
    }
   ],
   "source": [
    "# .format() interpolation\n",
    "name = \"Terrance\"\n",
    "language = \"Python\"\n",
    "home_state = \"New York\"\n",
    "\"Hi, my name is {} I love coding, especially in {}. I live in {}, {}\".format(name, language, \"New York City\", home_state)\n",
    "# here we can see that the order of arguments matters and that we need the exact number of arguments as we have {}"
   ]
  },
  {
   "cell_type": "markdown",
   "metadata": {},
   "source": [
    "Now that we know how to interpolate and concatenate strings, let's talk about the different kinds of string methods we have available to us. \n",
    "\n",
    "There are many methods that are built-in to python for strings. Some of the most common string methods are below:\n",
    "\n",
    "* [format()]('https://www.programiz.com/python-programming/methods/string/format') - (we already used this one above!)\n",
    "* [split()]('https://www.programiz.com/python-programming/methods/string/split')\n",
    "* [join()]('https://www.programiz.com/python-programming/methods/string/join')\n",
    "* [find()]('https://www.programiz.com/python-programming/methods/string/find')\n",
    "* [count()]('https://www.programiz.com/python-programming/methods/string/count')\n",
    "* [startswith()]('https://www.programiz.com/python-programming/methods/string/endswith')\n",
    "* [endswith()]('https://www.programiz.com/python-programming/methods/string/startswith')\n",
    "* [replace()]('https://www.programiz.com/python-programming/methods/string/replace')\n",
    "* [strip()]('https://www.programiz.com/python-programming/methods/string/strip')\n",
    "* [upper()]('https://www.programiz.com/python-programming/methods/string/upper')\n",
    "* [lower()]('https://www.programiz.com/python-programming/methods/string/lower')\n",
    "* [title()]('https://www.programiz.com/python-programming/methods/string/title')\n",
    "* [casefold()]('https://www.programiz.com/python-programming/methods/string/casefold')\n",
    "\n",
    "Many of the names can be used to infer what functionality they provide, but click on the links and peruse the documentation if you want to learn more and see the full functionality of these methods. "
   ]
  },
  {
   "cell_type": "markdown",
   "metadata": {},
   "source": [
    "## Practicing With Strings"
   ]
  },
  {
   "cell_type": "markdown",
   "metadata": {},
   "source": [
    "Now that we have a more of an understanding of how string formating works and what built in methods we can use, let's practice our skills by writing some functions.\n",
    "\n",
    "Open up the string_functions.py file and follow along with the comments which detail the functionality each should have. Run the tests to make sure your functions will work with any example."
   ]
  },
  {
   "cell_type": "code",
   "execution_count": 42,
   "metadata": {},
   "outputs": [],
   "source": [
    "x = 'MiSsissiPpi'"
   ]
  },
  {
   "cell_type": "code",
   "execution_count": 46,
   "metadata": {},
   "outputs": [
    {
     "data": {
      "text/plain": [
       "3"
      ]
     },
     "execution_count": 46,
     "metadata": {},
     "output_type": "execute_result"
    }
   ],
   "source": [
    "c = x.count('s')\n",
    "x.replace()"
   ]
  },
  {
   "cell_type": "markdown",
   "metadata": {},
   "source": [
    "## Summary"
   ]
  },
  {
   "cell_type": "markdown",
   "metadata": {},
   "source": [
    "In this lab we introduced the basics of how strings work and what methods we have available to us when we are working with strings in Python. Then we put those skills to the test by defining functions that used some of these methods to alter and format strings for our own uses. This is a common need of any good programmer to make sure that their application only accepts information in a uniform format, as well as guard against information coming into the program that might be malicious."
   ]
  },
  {
   "cell_type": "code",
   "execution_count": 163,
   "metadata": {},
   "outputs": [],
   "source": [
    "def remove_duplicate_punctuation(string):\n",
    "    chars = ['.', ',', '!', '?']\n",
    "    for c in chars:    \n",
    "        for i in range(string.count(c)):\n",
    "            for index, w in enumerate(string):\n",
    "                if w == c and index +1 < len(string) and string[index+1] == c :\n",
    "                    string = string.replace(c, '', 1)\n",
    "    return string"
   ]
  },
  {
   "cell_type": "code",
   "execution_count": 188,
   "metadata": {},
   "outputs": [],
   "source": [
    "string = \"Hello..... My name is Terrance!! How are you???\" #should be reformatted to \"Hi!\"\n",
    "t= \"Hi!!!!!\""
   ]
  },
  {
   "cell_type": "code",
   "execution_count": 166,
   "metadata": {},
   "outputs": [
    {
     "data": {
      "text/plain": [
       "'Hi!'"
      ]
     },
     "execution_count": 166,
     "metadata": {},
     "output_type": "execute_result"
    }
   ],
   "source": [
    "remove_duplicate_punctuation(t)"
   ]
  },
  {
   "cell_type": "code",
   "execution_count": 183,
   "metadata": {},
   "outputs": [],
   "source": [
    "def validate_email_format(email):\n",
    "    # should make sure there are no special characters (i.e. *,~,#,$,%,&,(,),`,\",',:,;,/,>,<)\n",
    "    # make sure the email contains an @ symbol and a .com\n",
    "    # return True if format passes tests, return False otherwise\n",
    "    unwanted = ['*','~','#','$','%','&','(',')', \"'\",'`','\"',\"'\",':',';','/','>','<']\n",
    "    for c in unwanted:\n",
    "        if c in email:\n",
    "            return False\n",
    "    if '@' in email and email.count('@') == 1:\n",
    "        if email.endswith('.com'):\n",
    "            return True\n",
    "        else:\n",
    "            return False\n",
    "    else:\n",
    "        return False\n",
    "\n"
   ]
  },
  {
   "cell_type": "code",
   "execution_count": 184,
   "metadata": {},
   "outputs": [
    {
     "data": {
      "text/plain": [
       "False"
      ]
     },
     "execution_count": 184,
     "metadata": {},
     "output_type": "execute_result"
    }
   ],
   "source": [
    "validate_email_format(\"sk@terbrahhang10@yahoo.com\")"
   ]
  },
  {
   "cell_type": "code",
   "execution_count": 191,
   "metadata": {},
   "outputs": [],
   "source": [
    "for i in range(string.count(\"?\")):\n",
    "            for index, w in enumerate(string):\n",
    "                if w == \"?\" and index +1 < len(string) and string[index+1] == \"?\" :\n",
    "                    string = string.replace(\"?\", '', 1)"
   ]
  },
  {
   "cell_type": "code",
   "execution_count": 192,
   "metadata": {},
   "outputs": [
    {
     "name": "stdout",
     "output_type": "stream",
     "text": [
      "Hello..... My name is Terrance! How are you?\n"
     ]
    }
   ],
   "source": [
    "print(string)"
   ]
  },
  {
   "cell_type": "code",
   "execution_count": 194,
   "metadata": {},
   "outputs": [],
   "source": [
    "enumerate?"
   ]
  },
  {
   "cell_type": "code",
   "execution_count": 230,
   "metadata": {},
   "outputs": [],
   "source": [
    "def anonymize_credit_card_number(credit_card_number):\n",
    "    end = credit_card_number[-4:]\n",
    "    new_cc =''\n",
    "    print(end)\n",
    "    for x in range(len(credit_card_number)-4):\n",
    "        if credit_card_number[x].isdigit():\n",
    "            new_cc += 'X'\n",
    "        elif '-' == credit_card_number[x]  or ' ' == credit_card_number[x]:\n",
    "            new_cc += '-'\n",
    "        else:\n",
    "            return None\n",
    "    return new_cc+end"
   ]
  },
  {
   "cell_type": "code",
   "execution_count": 232,
   "metadata": {
    "scrolled": true
   },
   "outputs": [
    {
     "name": "stdout",
     "output_type": "stream",
     "text": [
      "5345\n"
     ]
    },
    {
     "data": {
      "text/plain": [
       "'XXX-XXXX-X5345'"
      ]
     },
     "execution_count": 232,
     "metadata": {},
     "output_type": "execute_result"
    }
   ],
   "source": [
    "anonymize_credit_card_number(\"952 3453 45345\")"
   ]
  },
  {
   "cell_type": "code",
   "execution_count": 212,
   "metadata": {},
   "outputs": [
    {
     "data": {
      "text/plain": [
       "(17, 17)"
      ]
     },
     "execution_count": 212,
     "metadata": {},
     "output_type": "execute_result"
    }
   ],
   "source": [
    "len(\"1234-5678-90-1234\"), len('XXXXXXXXXXXXXXXXX')"
   ]
  },
  {
   "cell_type": "code",
   "execution_count": 213,
   "metadata": {},
   "outputs": [
    {
     "data": {
      "text/plain": [
       "'XXX-XXXXX-XXX-X5'"
      ]
     },
     "execution_count": 213,
     "metadata": {},
     "output_type": "execute_result"
    }
   ],
   "source": [
    "anonymize_credit_card_number('123-23423-453-45')"
   ]
  },
  {
   "cell_type": "code",
   "execution_count": null,
   "metadata": {},
   "outputs": [],
   "source": []
  }
 ],
 "metadata": {
  "kernelspec": {
   "display_name": "Python 3",
   "language": "python",
   "name": "python3"
  },
  "language_info": {
   "codemirror_mode": {
    "name": "ipython",
    "version": 3
   },
   "file_extension": ".py",
   "mimetype": "text/x-python",
   "name": "python",
   "nbconvert_exporter": "python",
   "pygments_lexer": "ipython3",
   "version": "3.7.0"
  }
 },
 "nbformat": 4,
 "nbformat_minor": 2
}
